{
 "cells": [
  {
   "cell_type": "code",
   "execution_count": 9,
   "id": "70c21569",
   "metadata": {},
   "outputs": [
    {
     "name": "stdout",
     "output_type": "stream",
     "text": [
      "Enter a password :- ABcd!@#123\n",
      "Valid Password\n"
     ]
    }
   ],
   "source": [
    "#Q1\n",
    "l, u, p, d = 0, 0, 0, 0\n",
    "s = input(\"Enter a password :- \")\n",
    "capitalalphabets=\"ABCDEFGHIJKLMNOPQRSTUVWXYZ\"\n",
    "smallalphabets=\"abcdefghijklmnopqrstuvwxyz\"\n",
    "specialchar=\"!@#$%^&*/+-\"\n",
    "digits=\"0123456789\"\n",
    "if (len(s) >=10):\n",
    "    for i in s:\n",
    "        if (i in smallalphabets):\n",
    "            l+=1\n",
    "        if (i in capitalalphabets):\n",
    "            u+=1\n",
    "        if (i in digits):\n",
    "            d+=1\n",
    "        if(i in specialchar):\n",
    "            p+=1\n",
    "if (l>=1 and u>=1 and p>=1 and d>=1 and l+p+u+d==len(s)):\n",
    "    print(\"Valid Password\")\n",
    "else:\n",
    "    print(\"Invalid Password\")"
   ]
  },
  {
   "cell_type": "code",
   "execution_count": 2,
   "id": "1cd49652",
   "metadata": {},
   "outputs": [
    {
     "name": "stdout",
     "output_type": "stream",
     "text": [
      "False\n",
      "True\n",
      "True\n",
      "False\n",
      "[('orange', 80), ('mango', 99), ('grapes', 1000)]\n",
      "[1, 4, 9, 16, 25, 36, 49, 64, 81, 100]\n",
      "[1.0, 1.2599210498948732, 1.4422495703074083, 1.5874010519681994, 1.7099759466766968, 1.8171205928321397, 1.912931182772389, 2.0, 2.080083823051904, 2.154434690031884]\n",
      "True\n",
      "False\n",
      "[1, 3, 5, 7, 9]\n",
      "[1, 2, 3, 4, 5, 6]\n",
      "[-1, -2, -3, -4, -5]\n"
     ]
    }
   ],
   "source": [
    "#2\n",
    "starts_with_letter = lambda string, letter: string.startswith(letter)\n",
    "print(starts_with_letter(\"Keshav\", \"S\")) \n",
    "print(starts_with_letter(\"Rathi\", \"R\"))  \n",
    "\n",
    "is_numeric = lambda string: string.isnumeric()\n",
    "print(is_numeric(\"123\"))  \n",
    "print(is_numeric(\"abc\")) \n",
    "\n",
    "fruits = [(\"mango\", 99), (\"orange\", 80), (\"grapes\", 1000)]\n",
    "sorted_fruits = sorted(fruits, key=lambda x: x[1])\n",
    "print(sorted_fruits)\n",
    "\n",
    "squares = list(map(lambda x: x**2, range(1, 11)))\n",
    "print(squares)\n",
    "\n",
    "import math\n",
    "cube_roots = list(map(lambda x: math.pow(x, 1/3), range(1, 11)))\n",
    "print(cube_roots)\n",
    "\n",
    "is_even = lambda num: num % 2 == 0\n",
    "print(is_even(4))  # Output: True\n",
    "print(is_even(7))  # Output: False\n",
    "\n",
    "numbers = [1, 2, 3, 4, 5, 6, 7, 8, 9, 10]\n",
    "odd_numbers = list(filter(lambda x: x % 2 != 0, numbers))\n",
    "print(odd_numbers)\n",
    "\n",
    "numbers = [1, 2, 3, 4, 5, 6, -1, -2, -3, -4, -5, 0]\n",
    "positive_numbers = list(filter(lambda x: x > 0, numbers))\n",
    "negative_numbers = list(filter(lambda x: x < 0, numbers))\n",
    "print(positive_numbers)\n",
    "print(negative_numbers)\n",
    "\n"
   ]
  }
 ],
 "metadata": {
  "kernelspec": {
   "display_name": "Python 3 (ipykernel)",
   "language": "python",
   "name": "python3"
  },
  "language_info": {
   "codemirror_mode": {
    "name": "ipython",
    "version": 3
   },
   "file_extension": ".py",
   "mimetype": "text/x-python",
   "name": "python",
   "nbconvert_exporter": "python",
   "pygments_lexer": "ipython3",
   "version": "3.11.1"
  }
 },
 "nbformat": 4,
 "nbformat_minor": 5
}
